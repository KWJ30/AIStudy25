{
  "nbformat": 4,
  "nbformat_minor": 0,
  "metadata": {
    "colab": {
      "provenance": [],
      "authorship_tag": "ABX9TyNzozgnm5TS3BRGo5Sh9FcN"
    },
    "kernelspec": {
      "name": "python3",
      "display_name": "Python 3"
    },
    "language_info": {
      "name": "python"
    }
  },
  "cells": [
    {
      "cell_type": "code",
      "execution_count": null,
      "metadata": {
        "id": "p_gD60F_mb8S"
      },
      "outputs": [],
      "source": [
        "# 농어주문상승 -> 농어를 무게 단위로 판매하려 함\n",
        "# 공급처에서 잘못 측정했을 가능성 -> 재 측정해야함\n",
        "# 다른 데이터는 정상범위가 있으니 예측할 수 있을까? -> 이걸 회귀라고 함\n",
        "\n",
        "# 외부에서 56개의 샘플을 받아서 처리해보자\n",
        "# 지도학습은 크게 2가지로 나누어짐\n",
        "\n",
        "# 분류 (2진분류)\n",
        "# 회귀 (예측: 확률(임의의 어떤 숫자로 예측))\n",
        "# 회귀: 두 변수 사이에 상관관계를 분석하는 방법"
      ]
    }
  ]
}